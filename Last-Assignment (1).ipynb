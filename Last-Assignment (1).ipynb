{
  "metadata": {
    "language_info": {
      "codemirror_mode": {
        "name": "python",
        "version": 3
      },
      "file_extension": ".py",
      "mimetype": "text/x-python",
      "name": "python",
      "nbconvert_exporter": "python",
      "pygments_lexer": "ipython3",
      "version": "3.8"
    },
    "kernelspec": {
      "name": "python",
      "display_name": "Pyolite",
      "language": "python"
    }
  },
  "nbformat_minor": 4,
  "nbformat": 4,
  "cells": [
    {
      "cell_type": "markdown",
      "source": "# My Jupyter Notebook on IBM Watson Studio",
      "metadata": {}
    },
    {
      "cell_type": "markdown",
      "source": "**TAOUFIQ ABDESSAMAD**\n\nA teacher",
      "metadata": {}
    },
    {
      "cell_type": "markdown",
      "source": "*I am interested in data science because a love to resolve problems using maths and coding.*",
      "metadata": {}
    },
    {
      "cell_type": "markdown",
      "source": "### creat a fuction to resolve a first grade equation ",
      "metadata": {}
    },
    {
      "cell_type": "code",
      "source": "def func(X):\n    Y=X+8\n    return Y\nfunc(3)",
      "metadata": {
        "trusted": true
      },
      "execution_count": 8,
      "outputs": [
        {
          "execution_count": 8,
          "output_type": "execute_result",
          "data": {
            "text/plain": "11"
          },
          "metadata": {}
        }
      ]
    },
    {
      "cell_type": "markdown",
      "source": "###### this is a list\n1. A1\n2. A2\n3. A3\n4. A4",
      "metadata": {}
    },
    {
      "cell_type": "markdown",
      "source": "[this is a link](https://github.com/adam-p/markdown-here/wiki/Markdown-Cheatsheet#lists)",
      "metadata": {}
    },
    {
      "cell_type": "markdown",
      "source": "###### this is a table\n| name       | age          | gender  |\n| ------------- |:-------------:| -----:|\n|      Ali | 28 | M |\n| Marc     | 35     |   M |\n| Jad | 17    |    F |",
      "metadata": {}
    },
    {
      "cell_type": "markdown",
      "source": "###### this is a horizontal rule\n---",
      "metadata": {}
    },
    {
      "cell_type": "code",
      "source": "",
      "metadata": {},
      "execution_count": null,
      "outputs": []
    }
  ]
}
